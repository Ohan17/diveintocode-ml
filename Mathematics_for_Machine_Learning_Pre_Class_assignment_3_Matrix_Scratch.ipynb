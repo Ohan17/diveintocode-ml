{
  "nbformat": 4,
  "nbformat_minor": 0,
  "metadata": {
    "colab": {
      "name": "Mathematics for Machine Learning Pre-Class assignment 3 Matrix Scratch.ipynb",
      "provenance": [],
      "collapsed_sections": [],
      "authorship_tag": "ABX9TyN105bIcDi2BncEvN3vWE7Q",
      "include_colab_link": true
    },
    "kernelspec": {
      "name": "python3",
      "display_name": "Python 3"
    }
  },
  "cells": [
    {
      "cell_type": "markdown",
      "metadata": {
        "id": "view-in-github",
        "colab_type": "text"
      },
      "source": [
        "<a href=\"https://colab.research.google.com/github/OhaN2k/diveintocode-ml/blob/master/Mathematics_for_Machine_Learning_Pre_Class_assignment_3_Matrix_Scratch.ipynb\" target=\"_parent\"><img src=\"https://colab.research.google.com/assets/colab-badge.svg\" alt=\"Open In Colab\"/></a>"
      ]
    },
    {
      "cell_type": "code",
      "metadata": {
        "id": "iTbqA3rTJovV"
      },
      "source": [
        "# [Problem 1] Matrix product is calculated manually\r\n",
        "import numpy as np\r\n",
        "a_ndarray = np.array([[-1, 2, 3], [4, -5, 6], [7, 8, -9]])\r\n",
        "b_ndarray = np.array([[0, 2, 1], [0, 2, -8], [2, 9, -1]])\r\n",
        "c_ndarray = np.array([[6, 29, -20], [12, 52, 38], [-18, -51, -48]])"
      ],
      "execution_count": 13,
      "outputs": []
    },
    {
      "cell_type": "markdown",
      "metadata": {
        "id": "-0O_cEf7LAIq"
      },
      "source": [
        "The product of matrix A and B is 3x3.\r\n",
        "We get the number at position [0, 0] by multiplying the each value of the first row of matrix A with each value of the first column of matrix B, then take sum of those numbers. Similarly, number at [0, 1] = row 1A * column 2B,... number at [2, 2] = row 3A * column 3B."
      ]
    },
    {
      "cell_type": "code",
      "metadata": {
        "colab": {
          "base_uri": "https://localhost:8080/"
        },
        "id": "ot1BmRtpMsXd",
        "outputId": "152d939d-2cff-48f5-aa50-8e11113d4d72"
      },
      "source": [
        "# [Problem 2] Calculation by NumPy function\r\n",
        "print(np.dot(a_ndarray, b_ndarray))\r\n",
        "print(np.matmul(a_ndarray, b_ndarray))\r\n",
        "print(a_ndarray @ b_ndarray)"
      ],
      "execution_count": 18,
      "outputs": [
        {
          "output_type": "stream",
          "text": [
            "[[  6  29 -20]\n",
            " [ 12  52  38]\n",
            " [-18 -51 -48]]\n",
            "[[  6  29 -20]\n",
            " [ 12  52  38]\n",
            " [-18 -51 -48]]\n",
            "[[  6  29 -20]\n",
            " [ 12  52  38]\n",
            " [-18 -51 -48]]\n"
          ],
          "name": "stdout"
        }
      ]
    },
    {
      "cell_type": "code",
      "metadata": {
        "id": "jtlLQa3zOZjh",
        "colab": {
          "base_uri": "https://localhost:8080/"
        },
        "outputId": "e4b2876a-1b59-463a-a97b-4030285cf87b"
      },
      "source": [
        "# [Problem 3] Implementation of calculation of a certain element\r\n",
        "import numpy as np\r\n",
        "def v_product(v1, v2):\r\n",
        "  return np.sum(v1*v2)\r\n",
        "\r\n",
        "# [Problem 4] Creating a function that performs matrix multiplication\r\n",
        "def matrix_mul(m1, m2):\r\n",
        "  if len(m1[0]) != len(m2):\r\n",
        "    print(\"Invalid matrix dimension!\")\r\n",
        "    return\r\n",
        "  m3 = np.zeros((len(m1), len(m2[0])))\r\n",
        "  for i in range(len(m1)):\r\n",
        "    for j in range(len(m2[0])):\r\n",
        "      m3[i][j] = v_product(m1[i], m2.T[j])\r\n",
        "  return m3\r\n",
        "\r\n",
        "m = matrix_mul(a_ndarray, b_ndarray)\r\n",
        "print(m)\r\n",
        "\r\n",
        "# [Problem 6] Transposition\r\n",
        "print(m.T)"
      ],
      "execution_count": 36,
      "outputs": [
        {
          "output_type": "stream",
          "text": [
            "[[  6.  29. -20.]\n",
            " [ 12.  52.  38.]\n",
            " [-18. -51. -48.]]\n",
            "[[  6.  12. -18.]\n",
            " [ 29.  52. -51.]\n",
            " [-20.  38. -48.]]\n"
          ],
          "name": "stdout"
        }
      ]
    },
    {
      "cell_type": "code",
      "metadata": {
        "colab": {
          "base_uri": "https://localhost:8080/"
        },
        "id": "FXxzepRaHFK6",
        "outputId": "cce662ae-36a9-4a2d-8834-57d520d42f3c"
      },
      "source": [
        "# [Problem 5] Judge the input whose calculation is not defined\r\n",
        "d_ndarray = np.array([[-1, 2, 3], [4, -5, 6]])\r\n",
        "e_ndarray = np.array([[-9, 8, 7], [6, -5, 4]])\r\n",
        "f = matrix_mul(d_ndarray, e_ndarray)"
      ],
      "execution_count": 35,
      "outputs": [
        {
          "output_type": "stream",
          "text": [
            "Invalid matrix dimension!\n"
          ],
          "name": "stdout"
        }
      ]
    },
    {
      "cell_type": "code",
      "metadata": {
        "id": "JzJwMGRNJRRa"
      },
      "source": [
        ""
      ],
      "execution_count": null,
      "outputs": []
    }
  ]
}