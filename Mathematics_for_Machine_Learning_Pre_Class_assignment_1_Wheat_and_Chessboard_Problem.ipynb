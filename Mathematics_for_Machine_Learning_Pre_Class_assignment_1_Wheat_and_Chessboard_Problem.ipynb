{
  "nbformat": 4,
  "nbformat_minor": 0,
  "metadata": {
    "colab": {
      "name": "Mathematics for Machine Learning Pre-Class assignment 1 Wheat and Chessboard Problem.ipynb",
      "provenance": [],
      "collapsed_sections": [],
      "authorship_tag": "ABX9TyNCyv+qU3ICAgcv1DhA0T3e",
      "include_colab_link": true
    },
    "kernelspec": {
      "name": "python3",
      "display_name": "Python 3"
    }
  },
  "cells": [
    {
      "cell_type": "markdown",
      "metadata": {
        "id": "view-in-github",
        "colab_type": "text"
      },
      "source": [
        "<a href=\"https://colab.research.google.com/github/OhaN2k/diveintocode-ml/blob/master/Mathematics_for_Machine_Learning_Pre_Class_assignment_1_Wheat_and_Chessboard_Problem.ipynb\" target=\"_parent\"><img src=\"https://colab.research.google.com/assets/colab-badge.svg\" alt=\"Open In Colab\"/></a>"
      ]
    },
    {
      "cell_type": "code",
      "metadata": {
        "colab": {
          "base_uri": "https://localhost:8080/"
        },
        "id": "IzIn2FVQOHP-",
        "outputId": "5fbd8ef4-2b49-43f4-d9b5-dd4ad56f94ab"
      },
      "source": [
        "n_squares = 4\r\n",
        "small_board_list = [1]\r\n",
        "for _ in range(n_squares - 1):\r\n",
        "    small_board_list.append(2*small_board_list[-1])\r\n",
        "print(\"Arrange wheat on a plate of 4 squares (list)：{}\".format(small_board_list))"
      ],
      "execution_count": 17,
      "outputs": [
        {
          "output_type": "stream",
          "text": [
            "Arrange wheat on a plate of 4 squares (list)：[1, 2, 4, 8]\n"
          ],
          "name": "stdout"
        }
      ]
    },
    {
      "cell_type": "code",
      "metadata": {
        "colab": {
          "base_uri": "https://localhost:8080/"
        },
        "id": "sC32yf3YNkDf",
        "outputId": "5c8598b4-6226-4f9f-ec9a-a925b7145c11"
      },
      "source": [
        "# [Problem 1] Number of wheat on a 2 x 2 square chess board\r\n",
        "import numpy as np\r\n",
        "small_board_ndarray = np.array(small_board_list).reshape(2,2)\r\n",
        "print(\"Arrange wheat on a plate of 4 squares (ndarray)：\\n{}\".format(small_board_ndarray))"
      ],
      "execution_count": 43,
      "outputs": [
        {
          "output_type": "stream",
          "text": [
            "Arrange wheat on a plate of 4 squares (ndarray)：\n",
            "[[1 2]\n",
            " [4 8]]\n"
          ],
          "name": "stdout"
        }
      ]
    },
    {
      "cell_type": "code",
      "metadata": {
        "colab": {
          "base_uri": "https://localhost:8080/"
        },
        "id": "rdsPwN_kOggX",
        "outputId": "3b9ecd1e-6476-42a7-ff7f-4a335de7fcf4"
      },
      "source": [
        "# [Problem 2] Expansion to n × m mass\r\n",
        "import numpy as np\r\n",
        "def nxm(n, m):\r\n",
        "  board = [1]\r\n",
        "  for _ in range(n*m-1):\r\n",
        "    board.append(2*board[-1])\r\n",
        "  return np.array(board).reshape(n, m)\r\n",
        "\r\n",
        "board = nxm(8, 8)\r\n",
        "print(board)"
      ],
      "execution_count": 24,
      "outputs": [
        {
          "output_type": "stream",
          "text": [
            "[[1.00000000e+00 2.00000000e+00 4.00000000e+00 8.00000000e+00\n",
            "  1.60000000e+01 3.20000000e+01 6.40000000e+01 1.28000000e+02]\n",
            " [2.56000000e+02 5.12000000e+02 1.02400000e+03 2.04800000e+03\n",
            "  4.09600000e+03 8.19200000e+03 1.63840000e+04 3.27680000e+04]\n",
            " [6.55360000e+04 1.31072000e+05 2.62144000e+05 5.24288000e+05\n",
            "  1.04857600e+06 2.09715200e+06 4.19430400e+06 8.38860800e+06]\n",
            " [1.67772160e+07 3.35544320e+07 6.71088640e+07 1.34217728e+08\n",
            "  2.68435456e+08 5.36870912e+08 1.07374182e+09 2.14748365e+09]\n",
            " [4.29496730e+09 8.58993459e+09 1.71798692e+10 3.43597384e+10\n",
            "  6.87194767e+10 1.37438953e+11 2.74877907e+11 5.49755814e+11]\n",
            " [1.09951163e+12 2.19902326e+12 4.39804651e+12 8.79609302e+12\n",
            "  1.75921860e+13 3.51843721e+13 7.03687442e+13 1.40737488e+14]\n",
            " [2.81474977e+14 5.62949953e+14 1.12589991e+15 2.25179981e+15\n",
            "  4.50359963e+15 9.00719925e+15 1.80143985e+16 3.60287970e+16]\n",
            " [7.20575940e+16 1.44115188e+17 2.88230376e+17 5.76460752e+17\n",
            "  1.15292150e+18 2.30584301e+18 4.61168602e+18 9.22337204e+18]]\n"
          ],
          "name": "stdout"
        }
      ]
    },
    {
      "cell_type": "code",
      "metadata": {
        "id": "j1xAwa0JTxQK",
        "colab": {
          "base_uri": "https://localhost:8080/",
          "height": 312
        },
        "outputId": "d91a0f7a-8872-43b6-9b41-66bd61dc0f74"
      },
      "source": [
        "# [Problem 3] Total number of wheat\r\n",
        "print(\"Total number of wheat on an 8x8 chess board is {}.\".format(board.sum()))\r\n",
        "sum_each_row = np.average(board, axis=0)\r\n",
        "import matplotlib.pyplot as plt\r\n",
        "%matplotlib inline\r\n",
        "plt.xlabel(\"column\")\r\n",
        "plt.ylabel(\"number\")\r\n",
        "plt.title(\"average in each column\")\r\n",
        "plt.bar(np.arange(1,9), sum_each_row)\r\n",
        "plt.show()"
      ],
      "execution_count": 26,
      "outputs": [
        {
          "output_type": "stream",
          "text": [
            "Total number of wheat on an 8x8 chess board is 1.8446744073709552e+19.\n"
          ],
          "name": "stdout"
        },
        {
          "output_type": "display_data",
          "data": {
            "image/png": "[encoded data removed]",
            "text/plain": [
              "<Figure size 432x288 with 1 Axes>"
            ]
          },
          "metadata": {
            "tags": [],
            "needs_background": "light"
          }
        }
      ]
    },
    {
      "cell_type": "code",
      "metadata": {
        "colab": {
          "base_uri": "https://localhost:8080/",
          "height": 295
        },
        "id": "xX-B-fVEyjIH",
        "outputId": "d2c3e3f2-74f9-4585-94ce-db5bba278704"
      },
      "source": [
        "# [Problem 4] Heat map of the number of wheat\r\n",
        "plt.xlabel(\"column\")\r\n",
        "plt.ylabel(\"row\")\r\n",
        "plt.title(\"heatmap\")\r\n",
        "plt.pcolor(np.flip(board, axis=0))\r\n",
        "plt.show()"
      ],
      "execution_count": 50,
      "outputs": [
        {
          "output_type": "display_data",
          "data": {
            "image/png": "[encoded data removed]",
            "text/plain": [
              "<Figure size 432x288 with 1 Axes>"
            ]
          },
          "metadata": {
            "tags": [],
            "needs_background": "light"
          }
        }
      ]
    },
    {
      "cell_type": "code",
      "metadata": {
        "colab": {
          "base_uri": "https://localhost:8080/"
        },
        "id": "6daGcP_f0-2a",
        "outputId": "2f9f4110-4853-4047-c2b5-d4a7f17af478"
      },
      "source": [
        "# [Problem 5] How many times is the second half as long as the first half?\r\n",
        "print(\"The number of wheat in the second half is {} times greater than that in the first half.\".format(np.sum(board[4:])/np.sum(board[:4])))"
      ],
      "execution_count": 57,
      "outputs": [
        {
          "output_type": "stream",
          "text": [
            "The number of wheat in the second half is 4294967296.0 times greater than that in the first half.\n"
          ],
          "name": "stdout"
        }
      ]
    },
    {
      "cell_type": "code",
      "metadata": {
        "colab": {
          "base_uri": "https://localhost:8080/"
        },
        "id": "OjjzjOSW2tO2",
        "outputId": "53a8984d-4c85-4509-8257-1ed6f216afd1"
      },
      "source": [
        "# [Problem 6] Expansion to n × m mass by another calculation method\r\n",
        "def using_append(n, m):\r\n",
        "  board = np.array([1]).astype(np.uint64)\r\n",
        "  for _ in range(n*m - 1):\r\n",
        "    board = np.append(board, 2*board[-1])\r\n",
        "  return board.reshape(n, m)\r\n",
        "\r\n",
        "def using_broadcast(n, m):\r\n",
        "  return 2**np.arange(n*m).astype(np.uint64).reshape(n, m)\r\n",
        "print(\"8x8 chess board using append: \\n{}\".format(using_append(8,8)))\r\n",
        "print(\"8x8 chess board using broadcast: \\n{}\".format(using_broadcast(8,8)))"
      ],
      "execution_count": 78,
      "outputs": [
        {
          "output_type": "stream",
          "text": [
            "8x8 chess board using append: \n",
            "[[1.00000000e+00 2.00000000e+00 4.00000000e+00 8.00000000e+00\n",
            "  1.60000000e+01 3.20000000e+01 6.40000000e+01 1.28000000e+02]\n",
            " [2.56000000e+02 5.12000000e+02 1.02400000e+03 2.04800000e+03\n",
            "  4.09600000e+03 8.19200000e+03 1.63840000e+04 3.27680000e+04]\n",
            " [6.55360000e+04 1.31072000e+05 2.62144000e+05 5.24288000e+05\n",
            "  1.04857600e+06 2.09715200e+06 4.19430400e+06 8.38860800e+06]\n",
            " [1.67772160e+07 3.35544320e+07 6.71088640e+07 1.34217728e+08\n",
            "  2.68435456e+08 5.36870912e+08 1.07374182e+09 2.14748365e+09]\n",
            " [4.29496730e+09 8.58993459e+09 1.71798692e+10 3.43597384e+10\n",
            "  6.87194767e+10 1.37438953e+11 2.74877907e+11 5.49755814e+11]\n",
            " [1.09951163e+12 2.19902326e+12 4.39804651e+12 8.79609302e+12\n",
            "  1.75921860e+13 3.51843721e+13 7.03687442e+13 1.40737488e+14]\n",
            " [2.81474977e+14 5.62949953e+14 1.12589991e+15 2.25179981e+15\n",
            "  4.50359963e+15 9.00719925e+15 1.80143985e+16 3.60287970e+16]\n",
            " [7.20575940e+16 1.44115188e+17 2.88230376e+17 5.76460752e+17\n",
            "  1.15292150e+18 2.30584301e+18 4.61168602e+18 9.22337204e+18]]\n",
            "8x8 chess board using broadcast: \n",
            "[[                  1                   2                   4\n",
            "                    8                  16                  32\n",
            "                   64                 128]\n",
            " [                256                 512                1024\n",
            "                 2048                4096                8192\n",
            "                16384               32768]\n",
            " [              65536              131072              262144\n",
            "               524288             1048576             2097152\n",
            "              4194304             8388608]\n",
            " [           16777216            33554432            67108864\n",
            "            134217728           268435456           536870912\n",
            "           1073741824          2147483648]\n",
            " [         4294967296          8589934592         17179869184\n",
            "          34359738368         68719476736        137438953472\n",
            "         274877906944        549755813888]\n",
            " [      1099511627776       2199023255552       4398046511104\n",
            "        8796093022208      17592186044416      35184372088832\n",
            "       70368744177664     140737488355328]\n",
            " [    281474976710656     562949953421312    1125899906842624\n",
            "     2251799813685248    4503599627370496    9007199254740992\n",
            "    18014398509481984   36028797018963968]\n",
            " [  72057594037927936  144115188075855872  288230376151711744\n",
            "   576460752303423488 1152921504606846976 2305843009213693952\n",
            "  4611686018427387904 9223372036854775808]]\n"
          ],
          "name": "stdout"
        }
      ]
    },
    {
      "cell_type": "code",
      "metadata": {
        "colab": {
          "base_uri": "https://localhost:8080/"
        },
        "id": "tQmBuUen77fb",
        "outputId": "ce89a68e-985c-430e-89f2-08afe0f227a0"
      },
      "source": [
        "# [Problem 7] Comparing calculation times\r\n",
        "%timeit using_append(8,8)\r\n",
        "%timeit using_broadcast(8,8)\r\n",
        "# It clearly seems that broadcast method is more time efficient than append method."
      ],
      "execution_count": 81,
      "outputs": [
        {
          "output_type": "stream",
          "text": [
            "1000 loops, best of 5: 562 µs per loop\n",
            "The slowest run took 5.72 times longer than the fastest. This could mean that an intermediate result is being cached.\n",
            "100000 loops, best of 5: 5.61 µs per loop\n"
          ],
          "name": "stdout"
        }
      ]
    },
    {
      "cell_type": "code",
      "metadata": {
        "id": "jZFTJMrI-GQy"
      },
      "source": [
        ""
      ],
      "execution_count": null,
      "outputs": []
    }
  ]
}