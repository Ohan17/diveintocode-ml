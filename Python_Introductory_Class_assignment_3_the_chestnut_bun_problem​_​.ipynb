{
  "nbformat": 4,
  "nbformat_minor": 0,
  "metadata": {
    "colab": {
      "name": "Python Introductory Class assignment 3 the chestnut bun problem​ ​.ipynb",
      "provenance": [],
      "authorship_tag": "ABX9TyOOJLRqa7TrxvG6NsGHKD4B",
      "include_colab_link": true
    },
    "kernelspec": {
      "name": "python3",
      "display_name": "Python 3"
    }
  },
  "cells": [
    {
      "cell_type": "markdown",
      "metadata": {
        "id": "view-in-github",
        "colab_type": "text"
      },
      "source": [
        "<a href=\"https://colab.research.google.com/github/OhaN2k/diveintocode-ml/blob/master/Python_Introductory_Class_assignment_3_the_chestnut_bun_problem%E2%80%8B_%E2%80%8B.ipynb\" target=\"_parent\"><img src=\"https://colab.research.google.com/assets/colab-badge.svg\" alt=\"Open In Colab\"/></a>"
      ]
    },
    {
      "cell_type": "code",
      "metadata": {
        "colab": {
          "base_uri": "https://localhost:8080/",
          "height": 329
        },
        "id": "4ww7oabg4nqc",
        "outputId": "cecbda82-772c-42e4-fdf5-6f09b9061ede"
      },
      "source": [
        "# [Problem] The day when chestnut buns cover the solar system\r\n",
        "import matplotlib.pyplot as plt\r\n",
        "import numpy as np\r\n",
        "def chestnut_bun_problem(v1, v2):\r\n",
        "  time = 0\r\n",
        "  v_list = [v1]\r\n",
        "  while v_list[-1] < v2:\r\n",
        "    v_list.append(v_list[-1]*2)\r\n",
        "    time += 5\r\n",
        "  return time, v_list\r\n",
        "\r\n",
        "d_solar_system = 149597870691\r\n",
        "v_solar_system = 4/3*np.pi*d_solar_system**3\r\n",
        "v_chestnut_bun = 0.5\r\n",
        "minute, v_list = chestnut_bun_problem(v_chestnut_bun, v_solar_system)\r\n",
        "day = minute/60/24\r\n",
        "print(\"The day when chestnut buns cover the solar system is after {} day.\".format(day))\r\n",
        "\r\n",
        "tm = np.arange(0, len(v_list)*5, 5)\r\n",
        "plt.title(\"Volume of chestnut bun\")\r\n",
        "plt.xlabel(\"Minute\")\r\n",
        "plt.ylabel(\"Volume\")\r\n",
        "plt.plot(tm, v_list, \"o-b\", ms = 5, mec = 'g', mfc = 'g')\r\n",
        "print(len(v_list))"
      ],
      "execution_count": 33,
      "outputs": [
        {
          "output_type": "stream",
          "text": [
            "The day when chestnut buns cover the solar system is after 0.3993055555555556 day.\n",
            "116\n"
          ],
          "name": "stdout"
        },
        {
          "output_type": "display_data",
          "data": {
            "image/png": "[encoded data removed]",
            "text/plain": [
              "<Figure size 432x288 with 1 Axes>"
            ]
          },
          "metadata": {
            "tags": [],
            "needs_background": "light"
          }
        }
      ]
    },
    {
      "cell_type": "code",
      "metadata": {
        "id": "JsbyWC2Y5Ynl"
      },
      "source": [
        ""
      ],
      "execution_count": null,
      "outputs": []
    }
  ]
}