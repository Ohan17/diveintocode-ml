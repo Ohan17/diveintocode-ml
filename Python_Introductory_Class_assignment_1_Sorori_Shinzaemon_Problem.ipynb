{
  "nbformat": 4,
  "nbformat_minor": 0,
  "metadata": {
    "kernelspec": {
      "display_name": "Python 3",
      "language": "python",
      "name": "python3"
    },
    "language_info": {
      "codemirror_mode": {
        "name": "ipython",
        "version": 3
      },
      "file_extension": ".py",
      "mimetype": "text/x-python",
      "name": "python",
      "nbconvert_exporter": "python",
      "pygments_lexer": "ipython3",
      "version": "3.8.5"
    },
    "colab": {
      "name": "Python Introductory Class assignment 1 Sorori Shinzaemon Problem.ipynb",
      "provenance": [],
      "collapsed_sections": [],
      "include_colab_link": true
    }
  },
  "cells": [
    {
      "cell_type": "markdown",
      "metadata": {
        "id": "view-in-github",
        "colab_type": "text"
      },
      "source": [
        "<a href=\"https://colab.research.google.com/github/OhaN2k/diveintocode-ml/blob/master/Python_Introductory_Class_assignment_1_Sorori_Shinzaemon_Problem.ipynb\" target=\"_parent\"><img src=\"https://colab.research.google.com/assets/colab-badge.svg\" alt=\"Open In Colab\"/></a>"
      ]
    },
    {
      "cell_type": "code",
      "metadata": {
        "colab": {
          "base_uri": "https://localhost:8080/",
          "height": 329
        },
        "id": "o8k3eXqZGwrB",
        "outputId": "c1a9202c-db20-40b6-f5d4-b5adcc5a8851"
      },
      "source": [
        "import matplotlib.pyplot as plt\r\n",
        "import numpy as np\r\n",
        "%matplotlib inline\r\n",
        "\r\n",
        "# 【Problem 1] Number of grains of rice on the 100th day\r\n",
        "grain_list = [1]\r\n",
        "total_list = [1]\r\n",
        "for i in range(99):\r\n",
        "  grain_list.append(grain_list[-1]*2)\r\n",
        "  total_list.append(grain_list[-1] + total_list[-1])\r\n",
        "print(\"Total grain of rice recieved: {}\".format(total_list[-1]))\r\n",
        "\r\n",
        "days = np.arange(1, 101)\r\n",
        "plt.title(\"Number of grain of rice\")\r\n",
        "plt.xlabel(\"Days\")\r\n",
        "plt.ylabel(\"Grains\")\r\n",
        "plt.plot(days, grain_list, label = \"that day\")\r\n",
        "plt.plot(days, total_list, label = \"total\")\r\n",
        "plt.legend()\r\n",
        "\r\n"
      ],
      "execution_count": null,
      "outputs": [
        {
          "output_type": "stream",
          "text": [
            "Total grain of rice recieved: 1267650600228229401496703205375\n"
          ],
          "name": "stdout"
        },
        {
          "output_type": "execute_result",
          "data": {
            "text/plain": [
              "<matplotlib.legend.Legend at 0x7efe7b26af50>"
            ]
          },
          "metadata": {
            "tags": []
          },
          "execution_count": 10
        },
        {
          "output_type": "display_data",
          "data": {
            "image/png": "[encoded data removed]",
            "text/plain": [
              "<Figure size 432x288 with 1 Axes>"
            ]
          },
          "metadata": {
            "tags": [],
            "needs_background": "light"
          }
        }
      ]
    },
    {
      "cell_type": "code",
      "metadata": {
        "colab": {
          "base_uri": "https://localhost:8080/",
          "height": 329
        },
        "id": "mv6ny4MuLgUo",
        "outputId": "5a78f800-c52b-425a-be4a-289f1bcb52fa"
      },
      "source": [
        "import matplotlib.pyplot as plt\r\n",
        "import numpy as np\r\n",
        "%matplotlib inline\r\n",
        "#【Problem 2] Number of rice grains outside of the 100th day\r\n",
        "def compute_sorori_shinzaemon(day=100):\r\n",
        "    \"\"\"\r\n",
        "    A function that verifies the anecdote of rice by Sorori Shinzaemon. Calculate the number of rice grains per day.\r\n",
        "    Parameteres\r\n",
        "    --------------\r\n",
        "    day: int\r\n",
        "        Number of days to get rice (default : 100)\r\n",
        "    Returns\r\n",
        "    --------------\r\n",
        "    list_n_grains : list\r\n",
        "        List of the number of rice you get one day (the length of the list is equal to day)\r\n",
        "    list_total_grains : list\r\n",
        "        List of the total number of rice you will receive by a certain day (the length of the list will be equal to day)\r\n",
        "    \"\"\"\r\n",
        "    # Write the code here. pass is an instruction that means do nothing.\r\n",
        "    list_n_grains = [1]\r\n",
        "    list_total_grains = [1]\r\n",
        "    for i in range(day - 1):\r\n",
        "      list_n_grains.append(list_n_grains[-1]*2)\r\n",
        "      list_total_grains.append(list_total_grains[-1] + list_n_grains[-1])\r\n",
        "    return list_n_grains, list_total_grains\r\n",
        "\r\n",
        "list_n_grains, list_total_grains = compute_sorori_shinzaemon(10)\r\n",
        "print(\"Total grain of rice recieved after {} days: {}\".format(len(list_total_grains), list_total_grains[-1]))\r\n",
        "\r\n",
        "days = np.arange(1, len(list_n_grains) + 1)\r\n",
        "plt.title(\"Number of grain of rice\")\r\n",
        "plt.xlabel(\"Days\")\r\n",
        "plt.ylabel(\"Grains\")\r\n",
        "plt.plot(days, list_n_grains, label = \"that day\", color = \"green\", marker = 'o', markerfacecolor = \"green\", markersize = 5)\r\n",
        "plt.plot(days, list_total_grains, label = \"total\", color = \"blue\", marker = 'o', markerfacecolor = \"blue\", markersize = 5)\r\n",
        "plt.legend()\r\n",
        "\r\n",
        "#【Problem 3] How many people can live for how many days with the rice we get?\r\n",
        "\"\"\"\r\n",
        "According to wikipedia, a normal person needs  1800 kcal a day.\r\n",
        "Assuming the type of rice we recieve has 130 kcal per 100g and a grain weighs 0.02g, that means a person needs roughly 69231 grain of rice a day.\r\n",
        "Sources:  https://en.wikipedia.org/wiki/Food_energy#:~:text=According%20to%20the%20Food%20and,7%2C500%20kJ%20(1%2C800%20kcal).\r\n",
        "          https://en.wikipedia.org/wiki/Rice\r\n",
        "\"\"\"\r\n",
        "def days_to_live(n_grain, n_people):\r\n",
        "  GRAIN_PER_DAY = 69231\r\n",
        "  return int(n_grain / n_people / GRAIN_PER_DAY)\r\n",
        "\r\n",
        "# example\r\n",
        "n_people = 3\r\n",
        "print(\"Number of day(s) {} people can live with {} grain of rice is {}.\".format(n_people, list_total_grains[-1], days_to_live(list_total_grains[-1] ,n_people)))"
      ],
      "execution_count": null,
      "outputs": [
        {
          "output_type": "stream",
          "text": [
            "Total grain of rice recieved after 10 days: 1023\n",
            "Number of day(s) 3 people can live with 1023 grain of rice is 0.\n"
          ],
          "name": "stdout"
        },
        {
          "output_type": "display_data",
          "data": {
            "image/png": "[encoded data removed]",
            "text/plain": [
              "<Figure size 432x288 with 1 Axes>"
            ]
          },
          "metadata": {
            "tags": [],
            "needs_background": "light"
          }
        }
      ]
    },
    {
      "cell_type": "code",
      "metadata": {
        "id": "oauSJIragVhR"
      },
      "source": [
        ""
      ],
      "execution_count": null,
      "outputs": []
    }
  ]
}