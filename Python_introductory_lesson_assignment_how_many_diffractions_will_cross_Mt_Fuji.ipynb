{
  "nbformat": 4,
  "nbformat_minor": 0,
  "metadata": {
    "colab": {
      "name": "Python introductory lesson assignment how many diffractions will cross Mt. Fuji.ipynb",
      "provenance": [],
      "collapsed_sections": [],
      "authorship_tag": "ABX9TyNlBCzR23BJeSk/REaeSSG4",
      "include_colab_link": true
    },
    "kernelspec": {
      "name": "python3",
      "display_name": "Python 3"
    }
  },
  "cells": [
    {
      "cell_type": "markdown",
      "metadata": {
        "id": "view-in-github",
        "colab_type": "text"
      },
      "source": [
        "<a href=\"https://colab.research.google.com/github/OhaN2k/diveintocode-ml/blob/master/Python_introductory_lesson_assignment_how_many_diffractions_will_cross_Mt_Fuji.ipynb\" target=\"_parent\"><img src=\"https://colab.research.google.com/assets/colab-badge.svg\" alt=\"Open In Colab\"/></a>"
      ]
    },
    {
      "cell_type": "code",
      "metadata": {
        "id": "Cj8-hV31uD2x",
        "colab": {
          "base_uri": "https://localhost:8080/"
        },
        "outputId": "938bf70b-3155-4977-a6fe-c2f10b2370a0"
      },
      "source": [
        "# [Problem 1] Minimum number of folds over Mt. Fuji\r\n",
        "THICKNESS = 0.00008\r\n",
        "MT_FUJI = 3776\r\n",
        "cur_thickness = THICKNESS\r\n",
        "iteration = 0\r\n",
        "while cur_thickness <= MT_FUJI:\r\n",
        "  cur_thickness *= 2\r\n",
        "  iteration += 1\r\n",
        "print(\"{} fold(s) required for a paper thickness to exceeds mount Fuji\".format(iteration))"
      ],
      "execution_count": 2,
      "outputs": [
        {
          "output_type": "stream",
          "text": [
            "26 fold(s) required for a paper thickness to exceeds mount Fuji\n"
          ],
          "name": "stdout"
        }
      ]
    },
    {
      "cell_type": "code",
      "metadata": {
        "colab": {
          "base_uri": "https://localhost:8080/"
        },
        "id": "Mym7Ks-xt5pq",
        "outputId": "1692c933-9c8c-4973-9b6e-bdc825fe8cd0"
      },
      "source": [
        "# [Problem 2] Creating a function corresponding to an arbitrary thickness\r\n",
        "def n_fold_calculator(t0, t_desired):\r\n",
        "  iteration = 0\r\n",
        "  while t0 < t_desired:\r\n",
        "    t0 *= 2\r\n",
        "    iteration += 1\r\n",
        "  return iteration\r\n",
        "\r\n",
        "# The closest non-sun star to Earth is Proxima Centauri with 4.2465 light-years away which equivalant to 4.01741339 × 10^16m\r\n",
        "# Source: https://en.wikipedia.org/wiki/Proxima_Centauri\r\n",
        "# Example\r\n",
        "thickness = 0.0001\r\n",
        "desired_thickness = 4.01741339 * 10**16\r\n",
        "print(\"A paper with initial thickness of {}m needs to be folded {} times to reach the closest non-sun star.\".format(thickness, n_fold_calculator(thickness, desired_thickness)))"
      ],
      "execution_count": 12,
      "outputs": [
        {
          "output_type": "stream",
          "text": [
            "A paper with initial thickness of 0.0001m needs to be folded 69 times to reach the closest non-sun star.\n"
          ],
          "name": "stdout"
        }
      ]
    },
    {
      "cell_type": "code",
      "metadata": {
        "colab": {
          "base_uri": "https://localhost:8080/"
        },
        "id": "UH8HTOCcy8SQ",
        "outputId": "a25ae236-0774-4c15-9ea5-1ab0b6144bdd"
      },
      "source": [
        "# [Problem 3] Required paper length\r\n",
        "import numpy as np\r\n",
        "def paper_length_calc(t0, t_desired):\r\n",
        "  n = 0\r\n",
        "  while t0 < t_desired:\r\n",
        "    t0 *= 2\r\n",
        "    n += 1\r\n",
        "  return np.pi*t0*(2**n + 4)*(2**n - 1)/6\r\n",
        "\r\n",
        "THICKNESS = 0.00008\r\n",
        "MT_FUJI = 3776\r\n",
        "PROXIMA_CENTAURI = 4.01741339 * 10**16\r\n",
        "print(\"To reach mount Fuji, we need a paper with length {}m and thickness {}m\".format(paper_length_calc(THICKNESS, MT_FUJI), THICKNESS))\r\n",
        "print(\"To reach the closest non-sun star, we need a paper with length {}m and thickness {}m\".format(paper_length_calc(THICKNESS, PROXIMA_CENTAURI), THICKNESS))"
      ],
      "execution_count": 13,
      "outputs": [
        {
          "output_type": "stream",
          "text": [
            "To reach mount Fuji, we need a paper with length 1.2659842144726804e+19m and thickness 8e-05m\n",
            "To reach the closest non-sun star, we need a paper with length 8.615841714548044e+57m and thickness 8e-05m\n"
          ],
          "name": "stdout"
        }
      ]
    },
    {
      "cell_type": "code",
      "metadata": {
        "id": "IA8vTnKB0kcq"
      },
      "source": [
        ""
      ],
      "execution_count": null,
      "outputs": []
    }
  ]
}